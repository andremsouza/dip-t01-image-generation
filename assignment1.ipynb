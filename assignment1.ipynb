{
 "cells": [
  {
   "cell_type": "code",
   "execution_count": 30,
   "metadata": {},
   "outputs": [],
   "source": [
    "# Name: André Moreira Souza\n",
    "# NUSP: 9778985\n",
    "# Course Code: SCC0251\n",
    "# Semester: 2019/1\n",
    "# Assignment: 1 - Image Generation"
   ]
  },
  {
   "cell_type": "code",
   "execution_count": 31,
   "metadata": {},
   "outputs": [],
   "source": [
    "import numpy as np\n",
    "import imageio\n",
    "import matplotlib.pyplot as plt\n",
    "import random\n",
    "from math import sin, cos"
   ]
  },
  {
   "cell_type": "code",
   "execution_count": 64,
   "metadata": {},
   "outputs": [],
   "source": [
    "# Function definitions\n",
    "# Each function returns an scene image (numpy array)\n",
    "\n",
    "# f (x, y) = (xy + 2y)\n",
    "def f1 (C, Q, N, S):\n",
    "\timg = np.zeros((C, C), dtype=float)\n",
    "\tfor x in range(C):\n",
    "\t\tfor y in range(C):\n",
    "\t\t\timg[x][y] = float(x*y+2.0*y)\n",
    "\treturn img\n",
    "\n",
    "# f (x, y) = | cos(x/Q) + 2 sin(y/Q)|\n",
    "def f2 (C, Q, N, S):\n",
    "\timg = np.zeros((C, C), dtype=float)\n",
    "\tfor x in range(C):\n",
    "\t\tfor y in range(C):\n",
    "\t\t\timg[x][y] = abs(float(np.cos(x/Q) + 2.0*np.sin(y/Q)))\n",
    "\treturn img\n",
    "\n",
    "# f (x, y) = |3(x/Q) − cbrt(y/Q)|\n",
    "def f3 (C, Q, N, S):\n",
    "\timg = np.zeros((C, C), dtype=float)\n",
    "\tfor x in range(C):\n",
    "\t\tfor y in range(C):\n",
    "\t\t\timg[x][y] = abs(float(3.0*(x/Q) - np.cbrt(y/Q)))\n",
    "\treturn img\n",
    "\n",
    "# f (x, y) = rand(0, 1, S)\n",
    "def f4 (C, Q, N, S):\n",
    "\timg = np.zeros((C, C), dtype=float)\n",
    "\trandom.seed(S)\n",
    "\tfor x in range(C):\n",
    "\t\tfor y in range(C):\n",
    "\t\t\timg[x][y] = float(random.random())\n",
    "\treturn img\n",
    "\n",
    "# f (x, y) = randomwalk(S)\n",
    "def f5 (C, Q, N, S):\n",
    "\timg = np.zeros((C, C), dtype=float)\n",
    "\tx, y = 0, 0\n",
    "\timg[x][y] = 1.0\n",
    "\trandom.seed(S)\n",
    "\tfor i in range((1+(C*C))):\n",
    "\t\tx = (x + random.randint(-1, 1)) % C\n",
    "\t\ty = (y + random.randint(-1, 1)) % C\n",
    "\t\timg[x][y] = 1.0\n",
    "\treturn img\n",
    "\n",
    "# Normalize value of an numpy array between 0 and a given max value\n",
    "def normalize (arr, maxvalue):\n",
    "\treturn (arr-arr.min()) * (maxvalue / (arr.max()-arr.min()))\n",
    "\n",
    "# Digitize scene image, using downsampling and quantizing\n",
    "def digitize (scene, N, B):\n",
    "\t# Generating steps from downsampling pooling operator\n",
    "\tstep = scene.shape[0] // N\n",
    "\tg = np.zeros((N, N), dtype=float)\n",
    "\tfor i in range(N):\n",
    "\t\tfor j in range(N):\n",
    "\t\t\tg[i][j] = scene[step*i][step*j]\n",
    "\n",
    "\t# Quantizing\n",
    "\tg = np.round(normalize(g, 255)).astype(np.uint8)\n",
    "\treturn g >> 8-B\n",
    "\n",
    "# root mean squared error (RMSE) function\n",
    "def rmse (img_g, img_r):\n",
    "\treturn np.sum((img_g.astype(float) - img_r.astype(float))**2)**(1/2)"
   ]
  },
  {
   "cell_type": "code",
   "execution_count": 52,
   "metadata": {},
   "outputs": [],
   "source": [
    "###### Inputs\n",
    "    # filename = path to input image\n",
    "    # C => lateral size of scene image\n",
    "    # F => function to be used\n",
    "    # Q => parameter for some functions\n",
    "    # N => lateral size of digital image\n",
    "    # B => bits per pixel\n",
    "    # S => seed for random functions\n",
    "filename = str(input()).strip()\n",
    "C, F, Q, N, B, S = int(input()), int(input()), int(input()), int(input()), int(input()), int(input())"
   ]
  },
  {
   "cell_type": "code",
   "execution_count": 65,
   "metadata": {},
   "outputs": [],
   "source": [
    "# Generating scene image f, defined on input parameters\n",
    "f = {\n",
    "    1: f1,\n",
    "    2: f2,\n",
    "    3: f3,\n",
    "    4: f4,\n",
    "    5: f5\n",
    "}[F](C, Q, N, S)\n",
    "f = normalize(f, 65535.0)"
   ]
  },
  {
   "cell_type": "code",
   "execution_count": 66,
   "metadata": {},
   "outputs": [
    {
     "data": {
      "text/plain": [
       "<matplotlib.colorbar.Colorbar at 0x7fd8e8711358>"
      ]
     },
     "execution_count": 66,
     "metadata": {},
     "output_type": "execute_result"
    },
    {
     "data": {
      "image/png": "[encoded data removed]",
      "text/plain": [
       "<Figure size 432x288 with 2 Axes>"
      ]
     },
     "metadata": {},
     "output_type": "display_data"
    }
   ],
   "source": [
    "plt.imshow(f, cmap='gray')\n",
    "plt.colorbar()"
   ]
  },
  {
   "cell_type": "code",
   "execution_count": 67,
   "metadata": {},
   "outputs": [
    {
     "data": {
      "text/plain": [
       "<matplotlib.image.AxesImage at 0x7fd8e86ac048>"
      ]
     },
     "execution_count": 67,
     "metadata": {},
     "output_type": "execute_result"
    },
    {
     "data": {
      "image/png": "[encoded data removed]",
      "text/plain": [
       "<Figure size 720x720 with 2 Axes>"
      ]
     },
     "metadata": {},
     "output_type": "display_data"
    }
   ],
   "source": [
    "# Generating digital image g, defined by input parameters. Comparing with reference\n",
    "g = digitize(f, N, B)\n",
    "R = np.load(filename)\n",
    "plt.figure(figsize=(10, 10))\n",
    "plt.subplot(121)\n",
    "plt.imshow(g, cmap='gray')\n",
    "plt.subplot(122)\n",
    "plt.imshow(R, cmap='gray')"
   ]
  },
  {
   "cell_type": "code",
   "execution_count": 68,
   "metadata": {},
   "outputs": [
    {
     "name": "stdout",
     "output_type": "stream",
     "text": [
      "13871.1562\n"
     ]
    }
   ],
   "source": [
    "# Error value\n",
    "print('%.4lf' % rmse(g, R))"
   ]
  }
 ],
 "metadata": {
  "kernelspec": {
   "display_name": "Python 3",
   "language": "python",
   "name": "python3"
  },
  "language_info": {
   "codemirror_mode": {
    "name": "ipython",
    "version": 3
   },
   "file_extension": ".py",
   "mimetype": "text/x-python",
   "name": "python",
   "nbconvert_exporter": "python",
   "pygments_lexer": "ipython3",
   "version": "3.6.5"
  }
 },
 "nbformat": 4,
 "nbformat_minor": 2
}
